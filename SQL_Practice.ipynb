{
  "nbformat": 4,
  "nbformat_minor": 0,
  "metadata": {
    "colab": {
      "provenance": [],
      "authorship_tag": "ABX9TyM1bG52oGSgqY3sNCuzjXpf",
      "include_colab_link": true
    },
    "kernelspec": {
      "name": "python3",
      "display_name": "Python 3"
    },
    "language_info": {
      "name": "python"
    }
  },
  "cells": [
    {
      "cell_type": "markdown",
      "metadata": {
        "id": "view-in-github",
        "colab_type": "text"
      },
      "source": [
        "<a href=\"https://colab.research.google.com/github/madhavimali/SQL_SQLZoo_HackerRank_Practice_Questions_with_Solutions/blob/main/SQL_Practice.ipynb\" target=\"_parent\"><img src=\"https://colab.research.google.com/assets/colab-badge.svg\" alt=\"Open In Colab\"/></a>"
      ]
    },
    {
      "cell_type": "markdown",
      "source": [
        "Query the list of CITY names from STATION that either do not start with vowels or do not end with vowels. Your result cannot contain duplicates."
      ],
      "metadata": {
        "id": "YCp1gMZEUtQd"
      }
    },
    {
      "cell_type": "code",
      "source": [
        "select distinct city\n",
        "from station\n",
        "where city not regexp '^[aeiou]'\n",
        "or   city not regexp '[aeiou]$'\n"
      ],
      "metadata": {
        "id": "9O1oFIFEVwNf"
      },
      "execution_count": null,
      "outputs": []
    },
    {
      "cell_type": "code",
      "source": [
        "select distinct city from station \n",
        "where (city not like '%a' and city not like '%e' and city not like '%i' and city not like '%o' and city not like '%u') or\n",
        " (city not like 'a%' and city not like 'e%' and city not like 'i%' and city not like 'o%' and city not like 'u%')\n"
      ],
      "metadata": {
        "id": "aFpoRMmPUryc"
      },
      "execution_count": null,
      "outputs": []
    },
    {
      "cell_type": "markdown",
      "source": [
        "Query the list of CITY names from STATION that do not end with vowels. Your result cannot contain duplicates."
      ],
      "metadata": {
        "id": "miVdD0N3T3n8"
      }
    },
    {
      "cell_type": "code",
      "source": [
        "select distinct city from station \n",
        "where city not like '%a' and city not like '%e' and city not like '%i' and city not like '%o' and city not like '%u'\n"
      ],
      "metadata": {
        "id": "5U554ksTT6hi"
      },
      "execution_count": null,
      "outputs": []
    },
    {
      "cell_type": "markdown",
      "source": [
        "Query the list of CITY names from STATION that do not start with vowels. Your result cannot contain duplicates."
      ],
      "metadata": {
        "id": "p_eHqW5lTZ6x"
      }
    },
    {
      "cell_type": "code",
      "source": [
        "select distinct city from station \n",
        "where city not like 'a%' and city not like 'e%' and city not like 'i%' and city not like 'o%' and city not like 'u%'\n"
      ],
      "metadata": {
        "id": "pInu8QbDQUcO"
      },
      "execution_count": null,
      "outputs": []
    },
    {
      "cell_type": "markdown",
      "source": [
        "Query the list of CITY names from STATION which have vowels (i.e., a, e, i, o, and u) as both their first and last characters. Your result cannot contain duplicates."
      ],
      "metadata": {
        "id": "l8Zlt_m2Omwl"
      }
    },
    {
      "cell_type": "code",
      "source": [
        "select distinct city from station \n",
        "where (city like 'a%' or city like 'e%' or city like 'i%' or city like 'o%' or city like 'u%') and (city like '%a' or city like '%e' or city like '%i' or city like '%o' or city like '%u') "
      ],
      "metadata": {
        "colab": {
          "base_uri": "https://localhost:8080/",
          "height": 131
        },
        "id": "rK1V-h8YOmQR",
        "outputId": "ae8a7501-063f-4a8a-df43-d9921b920c21"
      },
      "execution_count": null,
      "outputs": [
        {
          "output_type": "error",
          "ename": "SyntaxError",
          "evalue": "ignored",
          "traceback": [
            "\u001b[0;36m  File \u001b[0;32m\"<ipython-input-2-b8a9dbbd970f>\"\u001b[0;36m, line \u001b[0;32m1\u001b[0m\n\u001b[0;31m    select distinct city from station\u001b[0m\n\u001b[0m           ^\u001b[0m\n\u001b[0;31mSyntaxError\u001b[0m\u001b[0;31m:\u001b[0m invalid syntax\n"
          ]
        }
      ]
    },
    {
      "cell_type": "markdown",
      "source": [
        "Query the list of CITY names ending with vowels (a, e, i, o, u) from STATION. Your result cannot contain duplicates.\n",
        "\n",
        "Input Format\n",
        "\n",
        "The STATION table is described as follows:"
      ],
      "metadata": {
        "id": "M-KL-iXBOhI_"
      }
    },
    {
      "cell_type": "code",
      "source": [
        "select distinct city from station \n",
        "where city like '%a' or city like '%e' or city like '%i' or city like '%o' or city like '%u'"
      ],
      "metadata": {
        "id": "GgV1CiCzOfXC"
      },
      "execution_count": null,
      "outputs": []
    },
    {
      "cell_type": "markdown",
      "source": [
        "Query the list of CITY names starting with vowels (i.e., a, e, i, o, or u) from STATION. Your result cannot contain duplicates.\n",
        "\n",
        "Input Format"
      ],
      "metadata": {
        "id": "HuStev7BLozo"
      }
    },
    {
      "cell_type": "code",
      "source": [
        "select distinct city from station \n",
        "where city like 'a%' or city like 'e%' or city like 'i%' or city like 'o%' or city like 'u%'"
      ],
      "metadata": {
        "id": "TVjbQmBPLoc7"
      },
      "execution_count": null,
      "outputs": []
    },
    {
      "cell_type": "markdown",
      "source": [
        "Q. 15 List all the people who have worked with 'Art Garfunkel'."
      ],
      "metadata": {
        "id": "BoU2g8z4lGV7"
      }
    },
    {
      "cell_type": "code",
      "execution_count": null,
      "metadata": {
        "id": "rNv1ov1xlBuc"
      },
      "outputs": [],
      "source": [
        "select actor.name \n",
        "from actor join casting on casting.actorid = actor.id         \n",
        "           join movie on casting.movieid = movie.id \n",
        "           \n",
        "where movie.title in \n",
        "(select title \n",
        "from movie join casting on casting.movieid = movie.id \n",
        "           join actor on casting.actorid = actor.id\n",
        "where actor.name =  'Art Garfunkel')\n",
        "and actor.name != 'Art Garfunkel'\n",
        "order by actor.name"
      ]
    },
    {
      "cell_type": "markdown",
      "source": [
        "#Self Join"
      ],
      "metadata": {
        "id": "llPMOzr8lQaG"
      }
    },
    {
      "cell_type": "markdown",
      "source": [
        "How many stops are in the database."
      ],
      "metadata": {
        "id": "-2GCGR5NXcvR"
      }
    },
    {
      "cell_type": "code",
      "source": [
        "select count(id) from stops"
      ],
      "metadata": {
        "id": "zV90_Fs_lRB1"
      },
      "execution_count": null,
      "outputs": []
    },
    {
      "cell_type": "markdown",
      "source": [
        "Find the id value for the stop 'Craiglockhart'"
      ],
      "metadata": {
        "id": "dQa7zfoaXj6k"
      }
    },
    {
      "cell_type": "code",
      "source": [
        "select * from route"
      ],
      "metadata": {
        "id": "SuGvTqQpXqU7"
      },
      "execution_count": null,
      "outputs": []
    },
    {
      "cell_type": "markdown",
      "source": [
        "Give the id and the name for the stops on the '4' 'LRT' service."
      ],
      "metadata": {
        "id": "moNYdo4CXuRd"
      }
    },
    {
      "cell_type": "code",
      "source": [
        "select stops.id, stops.name from stops \n",
        "join route on stops.id = route.stop\n",
        "where company = 'LRT' and num = '4'"
      ],
      "metadata": {
        "id": "_n-78MMYXtyL"
      },
      "execution_count": null,
      "outputs": []
    },
    {
      "cell_type": "markdown",
      "source": [
        "The query shown gives the number of routes that visit either London Road (149) or Craiglockhart (53). Run the query and notice the two services that link these stops have a count of 2. Add a HAVING clause to restrict the output to these two routes.\n",
        "\n"
      ],
      "metadata": {
        "id": "ynvRRKmAX1K4"
      }
    },
    {
      "cell_type": "code",
      "source": [
        "SELECT company, num, count(stop)\n",
        "FROM stops join route on stops.id = route.stop\n",
        " WHERE stop=149 OR stop=53\n",
        "GROUP BY company, num\n",
        "having count(stop) >= 2\n"
      ],
      "metadata": {
        "id": "tklDIaluX5tl"
      },
      "execution_count": null,
      "outputs": []
    },
    {
      "cell_type": "markdown",
      "source": [
        "Execute the self join shown and observe that b.stop gives all the places you can get to from Craiglockhart, without changing routes. Change the query so that it shows the services from Craiglockhart to London Road."
      ],
      "metadata": {
        "id": "umPf-7n2YF9R"
      }
    },
    {
      "cell_type": "code",
      "source": [
        "SELECT a.company, a.num, a.stop, b.stop\n",
        "FROM route a JOIN route b ON\n",
        "  (a.company=b.company AND a.num=b.num)\n",
        "WHERE a.stop= (select id from stops where name = \n",
        "               'Craiglockhart')\n",
        " and b.stop = (select id from stops where name = 'London Road')"
      ],
      "metadata": {
        "id": "kgeZ9223YJE8"
      },
      "execution_count": null,
      "outputs": []
    },
    {
      "cell_type": "markdown",
      "source": [
        "The query shown is similar to the previous one, however by joining two copies of the stops table we can refer to stops by name rather than by number. Change the query so that the services between 'Craiglockhart' and 'London Road' are shown. If you are tired of these places try 'Fairmilehead' against 'Tollcross'"
      ],
      "metadata": {
        "id": "RTh4ftVZYKRs"
      }
    },
    {
      "cell_type": "code",
      "source": [
        "SELECT a.company, a.num, stopa.name, stopb.name\n",
        "FROM route a JOIN route b ON\n",
        "  (a.company=b.company AND a.num=b.num)\n",
        "  JOIN stops stopa ON (a.stop=stopa.id)\n",
        "  JOIN stops stopb ON (b.stop=stopb.id)\n",
        "WHERE \n",
        "(stopa.name='Craiglockhart' and stopb.name = 'London Road')\n",
        "or\n",
        "(stopb.name= 'Fairmilehead' and stopb.name=  'Tollcross')\n"
      ],
      "metadata": {
        "id": "ahDNjdJ2YP20"
      },
      "execution_count": null,
      "outputs": []
    }
  ]
}