{
  "nbformat": 4,
  "nbformat_minor": 0,
  "metadata": {
    "colab": {
      "provenance": [],
      "authorship_tag": "ABX9TyPmSSQ3Otl4jt5pPtosH+Yd",
      "include_colab_link": true
    },
    "kernelspec": {
      "name": "python3",
      "display_name": "Python 3"
    },
    "language_info": {
      "name": "python"
    }
  },
  "cells": [
    {
      "cell_type": "markdown",
      "metadata": {
        "id": "view-in-github",
        "colab_type": "text"
      },
      "source": [
        "<a href=\"https://colab.research.google.com/github/madhavimali/SQL_SQLZoo_HackerRank_Practice_Questions_with_Solutions/blob/main/SQL_Practice.ipynb\" target=\"_parent\"><img src=\"https://colab.research.google.com/assets/colab-badge.svg\" alt=\"Open In Colab\"/></a>"
      ]
    },
    {
      "cell_type": "markdown",
      "source": [
        "High pollution\n",
        "Easy\n",
        "From the following dataframe, write a SQL query to find all dates' city ID with higher pollution compared to its previous dates (yesterday). Return city ID, date and pollution."
      ],
      "metadata": {
        "id": "bplMRXeKJaPZ"
      }
    },
    {
      "cell_type": "code",
      "source": [
        "-- Write your query here\n",
        "SELECT s.city_id \n",
        "FROM so2_pollution as s\n",
        "  JOIN\n",
        "so2_pollution p ON \n",
        " julianday(s.date)- julianday(p.date) =1\n",
        "        AND s.so2_amt > p.so2_amt;\n"
      ],
      "metadata": {
        "id": "6uhMKXOoJZ5C"
      },
      "execution_count": null,
      "outputs": []
    },
    {
      "cell_type": "code",
      "source": [
        "SELECT p.city_id \n",
        "FROM so2_pollution as s\n",
        "  JOIN\n",
        "so2_pollution p ON \n",
        " julianday(p.date)- julianday(s.date) =1\n",
        "        AND p.so2_amt > s.so2_amt;\n"
      ],
      "metadata": {
        "id": "JgSJUbspKFwI"
      },
      "execution_count": null,
      "outputs": []
    },
    {
      "cell_type": "markdown",
      "source": [
        "From the following dataframe, write a SQL query to find all the duplicate emails of employees keeping the unique email with the greater employee id. Return employee id and duplicate emails."
      ],
      "metadata": {
        "id": "QBRV_SBg5WmZ"
      }
    },
    {
      "cell_type": "code",
      "source": [
        "select * from employees\n",
        "except\n",
        "select employee_id, employee_name, email_id\n",
        "from employees\n",
        "group by email_id\n"
      ],
      "metadata": {
        "id": "te4BEqTc_Mfy"
      },
      "execution_count": null,
      "outputs": []
    },
    {
      "cell_type": "markdown",
      "source": [
        "From the following Dataframes, write a SQL query to find those customers who never ordered anything. Return customer name."
      ],
      "metadata": {
        "id": "NshoJYhxzOI5"
      }
    },
    {
      "cell_type": "code",
      "source": [
        "select customer_name \n",
        "from customers \n",
        "where customer_id \n",
        "in (select customer_id\n",
        "from customers\n",
        "except \n",
        "select customer_id\n",
        "from orders)\n"
      ],
      "metadata": {
        "id": "LWy7kgyYzO4g"
      },
      "execution_count": null,
      "outputs": []
    },
    {
      "cell_type": "markdown",
      "source": [
        "A salesperson is a person whose job is to sell products or services. From the following dataframe, write a SQL query to find the top 10 salesperson that have made highest sale. Return their names and total sale amount.\n",
        "\n",
        "Table-I: sales\n",
        "\n",
        "Table-II: salesman"
      ],
      "metadata": {
        "id": "DPgq9u1ZyKm-"
      }
    },
    {
      "cell_type": "code",
      "source": [
        "select SALESMAN_NAME, sum (SALE_AMOUNT) as total_sale\n",
        "from salesman as s join sales as s1 on s.SALESMAN_ID = s1.SALESMAN_ID\n",
        "group by s1.SALESMAN_ID \n",
        "order by total_sale desc\n",
        "limit 10"
      ],
      "metadata": {
        "id": "g4GbUio9yKRl"
      },
      "execution_count": null,
      "outputs": []
    },
    {
      "cell_type": "markdown",
      "source": [
        "From the following dataframes, write a SQL query to find the information on each salesperson of ABC Company. Return name, city, country and state of each salesperson.\n",
        "\n",
        "Table-I: salespersons\n",
        "\n",
        "Table-II: address"
      ],
      "metadata": {
        "id": "NOEkb_uLnL0G"
      }
    },
    {
      "cell_type": "code",
      "source": [
        "select s.first_name, s.last_name, a.city, a.state\n",
        "from salespersons  as s left join address as a on \n",
        "s.salesperson_id = a.salesperson_id"
      ],
      "metadata": {
        "id": "glr-cP6MnLhg"
      },
      "execution_count": null,
      "outputs": []
    },
    {
      "cell_type": "markdown",
      "source": [
        "What is the number and percentage of customer plans after their initial free trial?\n",
        "\n",
        "Table-I: plans\n",
        "\n",
        "Table-II: subscriptions"
      ],
      "metadata": {
        "id": "B5-D3WiHjpCG"
      }
    },
    {
      "cell_type": "code",
      "source": [
        "select distinct s.plan_id as next_plan, count (s.plan_id) as conversions, count ( s.plan_id) as conversion_percentage\n",
        "from subscriptions as s\n",
        "join plans as p on s.plan_id = p.plan_id\n",
        "where s.plan_id > 0"
      ],
      "metadata": {
        "id": "KgoPveWTjt4-"
      },
      "execution_count": null,
      "outputs": []
    },
    {
      "cell_type": "markdown",
      "source": [
        "Write a query identifying the type of each record in the TRIANGLES table using its three side lengths. Output one of the following statements for each record in the table:\n",
        "\n",
        "Equilateral: It's a triangle with 3 sides of equal length.\n",
        "\n",
        "Isosceles: It's a triangle with 2 sides of equal length.\n",
        "\n",
        "Scalene: It's a triangle with 3 sides of differing lengths.\n",
        "\n",
        "Not A Triangle: The given values of A, B, and C don't form a triangle."
      ],
      "metadata": {
        "id": "a1T1G-6JdBxE"
      }
    },
    {
      "cell_type": "code",
      "source": [
        "select if(A+B<=C or B+C<=A or A+C<=B,\"Not A Triangle\",\n",
        "if(A=B and B=C,\"Equilateral\",\n",
        "if(A=B or B=C or A=C,\"Isosceles\",\"Scalene\")))\n",
        "from TRIANGLES as T"
      ],
      "metadata": {
        "id": "QtoT0TZYdAxi"
      },
      "execution_count": null,
      "outputs": []
    },
    {
      "cell_type": "markdown",
      "source": [
        "Query the Name of any student in STUDENTS who scored higher than  75 Marks. Order your output by the last three characters of each name. If two or more students both have names ending in the same last three characters (i.e.: Bobby, Robby, etc.), secondary sort them by ascending ID."
      ],
      "metadata": {
        "id": "EbVEZGaPZuPh"
      }
    },
    {
      "cell_type": "code",
      "source": [
        "select name from students\n",
        "where marks > 75\n",
        "order by right(name, 3), id asc "
      ],
      "metadata": {
        "id": "lFRbIAP3Ztva"
      },
      "execution_count": null,
      "outputs": []
    },
    {
      "cell_type": "markdown",
      "source": [
        "Query the list of CITY names from STATION that do not start with vowels and do not end with vowels. Your result cannot contain duplicates."
      ],
      "metadata": {
        "id": "BWV2HUolYo2Z"
      }
    },
    {
      "cell_type": "code",
      "source": [
        "select distinct city from station \n",
        "where city not regexp '^[aeiou]'\n",
        "and city not regexp '[aeiou]$'"
      ],
      "metadata": {
        "id": "zJNsl-tVYnyc"
      },
      "execution_count": null,
      "outputs": []
    },
    {
      "cell_type": "markdown",
      "source": [
        "Query the list of CITY names from STATION that do not start with vowels and do not end with vowels. Your result cannot contain duplicates."
      ],
      "metadata": {
        "id": "2SsPPZ7tXvRf"
      }
    },
    {
      "cell_type": "code",
      "source": [],
      "metadata": {
        "id": "UZVlrPQ7XxBz"
      },
      "execution_count": null,
      "outputs": []
    },
    {
      "cell_type": "markdown",
      "source": [
        "Query the list of CITY names from STATION that either do not start with vowels or do not end with vowels. Your result cannot contain duplicates."
      ],
      "metadata": {
        "id": "YCp1gMZEUtQd"
      }
    },
    {
      "cell_type": "code",
      "source": [
        "select distinct city\n",
        "from station\n",
        "where city not regexp '^[aeiou]'\n",
        "or   city not regexp '[aeiou]$'\n"
      ],
      "metadata": {
        "id": "9O1oFIFEVwNf"
      },
      "execution_count": null,
      "outputs": []
    },
    {
      "cell_type": "code",
      "source": [
        "select distinct city from station \n",
        "where (city not like '%a' and city not like '%e' and city not like '%i' and city not like '%o' and city not like '%u') or\n",
        " (city not like 'a%' and city not like 'e%' and city not like 'i%' and city not like 'o%' and city not like 'u%')\n"
      ],
      "metadata": {
        "id": "aFpoRMmPUryc"
      },
      "execution_count": null,
      "outputs": []
    },
    {
      "cell_type": "markdown",
      "source": [
        "Query the list of CITY names from STATION that do not end with vowels. Your result cannot contain duplicates."
      ],
      "metadata": {
        "id": "miVdD0N3T3n8"
      }
    },
    {
      "cell_type": "code",
      "source": [
        "select distinct city from station \n",
        "where city not like '%a' and city not like '%e' and city not like '%i' and city not like '%o' and city not like '%u'\n"
      ],
      "metadata": {
        "id": "5U554ksTT6hi"
      },
      "execution_count": null,
      "outputs": []
    },
    {
      "cell_type": "markdown",
      "source": [
        "Query the list of CITY names from STATION that do not start with vowels. Your result cannot contain duplicates."
      ],
      "metadata": {
        "id": "p_eHqW5lTZ6x"
      }
    },
    {
      "cell_type": "code",
      "source": [
        "select distinct city from station \n",
        "where city not like 'a%' and city not like 'e%' and city not like 'i%' and city not like 'o%' and city not like 'u%'\n"
      ],
      "metadata": {
        "id": "pInu8QbDQUcO"
      },
      "execution_count": null,
      "outputs": []
    },
    {
      "cell_type": "markdown",
      "source": [
        "Query the list of CITY names from STATION which have vowels (i.e., a, e, i, o, and u) as both their first and last characters. Your result cannot contain duplicates."
      ],
      "metadata": {
        "id": "l8Zlt_m2Omwl"
      }
    },
    {
      "cell_type": "code",
      "source": [
        "select distinct city from station \n",
        "where (city like 'a%' or city like 'e%' or city like 'i%' or city like 'o%' or city like 'u%') and (city like '%a' or city like '%e' or city like '%i' or city like '%o' or city like '%u') "
      ],
      "metadata": {
        "colab": {
          "base_uri": "https://localhost:8080/",
          "height": 131
        },
        "id": "rK1V-h8YOmQR",
        "outputId": "ae8a7501-063f-4a8a-df43-d9921b920c21"
      },
      "execution_count": null,
      "outputs": [
        {
          "output_type": "error",
          "ename": "SyntaxError",
          "evalue": "ignored",
          "traceback": [
            "\u001b[0;36m  File \u001b[0;32m\"<ipython-input-2-b8a9dbbd970f>\"\u001b[0;36m, line \u001b[0;32m1\u001b[0m\n\u001b[0;31m    select distinct city from station\u001b[0m\n\u001b[0m           ^\u001b[0m\n\u001b[0;31mSyntaxError\u001b[0m\u001b[0;31m:\u001b[0m invalid syntax\n"
          ]
        }
      ]
    },
    {
      "cell_type": "markdown",
      "source": [
        "Query the list of CITY names ending with vowels (a, e, i, o, u) from STATION. Your result cannot contain duplicates.\n",
        "\n",
        "Input Format\n",
        "\n",
        "The STATION table is described as follows:"
      ],
      "metadata": {
        "id": "M-KL-iXBOhI_"
      }
    },
    {
      "cell_type": "code",
      "source": [
        "select distinct city from station \n",
        "where city like '%a' or city like '%e' or city like '%i' or city like '%o' or city like '%u'"
      ],
      "metadata": {
        "id": "GgV1CiCzOfXC"
      },
      "execution_count": null,
      "outputs": []
    },
    {
      "cell_type": "markdown",
      "source": [
        "Query the list of CITY names starting with vowels (i.e., a, e, i, o, or u) from STATION. Your result cannot contain duplicates.\n",
        "\n",
        "Input Format"
      ],
      "metadata": {
        "id": "HuStev7BLozo"
      }
    },
    {
      "cell_type": "code",
      "source": [
        "select distinct city from station \n",
        "where city like 'a%' or city like 'e%' or city like 'i%' or city like 'o%' or city like 'u%'"
      ],
      "metadata": {
        "id": "TVjbQmBPLoc7"
      },
      "execution_count": null,
      "outputs": []
    },
    {
      "cell_type": "markdown",
      "source": [
        "Q. 15 List all the people who have worked with 'Art Garfunkel'."
      ],
      "metadata": {
        "id": "BoU2g8z4lGV7"
      }
    },
    {
      "cell_type": "code",
      "execution_count": null,
      "metadata": {
        "id": "rNv1ov1xlBuc"
      },
      "outputs": [],
      "source": [
        "select actor.name \n",
        "from actor join casting on casting.actorid = actor.id         \n",
        "           join movie on casting.movieid = movie.id \n",
        "           \n",
        "where movie.title in \n",
        "(select title \n",
        "from movie join casting on casting.movieid = movie.id \n",
        "           join actor on casting.actorid = actor.id\n",
        "where actor.name =  'Art Garfunkel')\n",
        "and actor.name != 'Art Garfunkel'\n",
        "order by actor.name"
      ]
    },
    {
      "cell_type": "markdown",
      "source": [
        "#Self Join"
      ],
      "metadata": {
        "id": "llPMOzr8lQaG"
      }
    },
    {
      "cell_type": "markdown",
      "source": [
        "How many stops are in the database."
      ],
      "metadata": {
        "id": "-2GCGR5NXcvR"
      }
    },
    {
      "cell_type": "code",
      "source": [
        "select count(id) from stops"
      ],
      "metadata": {
        "id": "zV90_Fs_lRB1"
      },
      "execution_count": null,
      "outputs": []
    },
    {
      "cell_type": "markdown",
      "source": [
        "Find the id value for the stop 'Craiglockhart'"
      ],
      "metadata": {
        "id": "dQa7zfoaXj6k"
      }
    },
    {
      "cell_type": "code",
      "source": [
        "select * from route"
      ],
      "metadata": {
        "id": "SuGvTqQpXqU7"
      },
      "execution_count": null,
      "outputs": []
    },
    {
      "cell_type": "markdown",
      "source": [
        "Give the id and the name for the stops on the '4' 'LRT' service."
      ],
      "metadata": {
        "id": "moNYdo4CXuRd"
      }
    },
    {
      "cell_type": "code",
      "source": [
        "select stops.id, stops.name from stops \n",
        "join route on stops.id = route.stop\n",
        "where company = 'LRT' and num = '4'"
      ],
      "metadata": {
        "id": "_n-78MMYXtyL"
      },
      "execution_count": null,
      "outputs": []
    },
    {
      "cell_type": "markdown",
      "source": [
        "The query shown gives the number of routes that visit either London Road (149) or Craiglockhart (53). Run the query and notice the two services that link these stops have a count of 2. Add a HAVING clause to restrict the output to these two routes.\n",
        "\n"
      ],
      "metadata": {
        "id": "ynvRRKmAX1K4"
      }
    },
    {
      "cell_type": "code",
      "source": [
        "SELECT company, num, count(stop)\n",
        "FROM stops join route on stops.id = route.stop\n",
        " WHERE stop=149 OR stop=53\n",
        "GROUP BY company, num\n",
        "having count(stop) >= 2\n"
      ],
      "metadata": {
        "id": "tklDIaluX5tl"
      },
      "execution_count": null,
      "outputs": []
    },
    {
      "cell_type": "markdown",
      "source": [
        "Execute the self join shown and observe that b.stop gives all the places you can get to from Craiglockhart, without changing routes. Change the query so that it shows the services from Craiglockhart to London Road."
      ],
      "metadata": {
        "id": "umPf-7n2YF9R"
      }
    },
    {
      "cell_type": "code",
      "source": [
        "SELECT a.company, a.num, a.stop, b.stop\n",
        "FROM route a JOIN route b ON\n",
        "  (a.company=b.company AND a.num=b.num)\n",
        "WHERE a.stop= (select id from stops where name = \n",
        "               'Craiglockhart')\n",
        " and b.stop = (select id from stops where name = 'London Road')"
      ],
      "metadata": {
        "id": "kgeZ9223YJE8"
      },
      "execution_count": null,
      "outputs": []
    },
    {
      "cell_type": "markdown",
      "source": [
        "The query shown is similar to the previous one, however by joining two copies of the stops table we can refer to stops by name rather than by number. Change the query so that the services between 'Craiglockhart' and 'London Road' are shown. If you are tired of these places try 'Fairmilehead' against 'Tollcross'"
      ],
      "metadata": {
        "id": "RTh4ftVZYKRs"
      }
    },
    {
      "cell_type": "code",
      "source": [
        "SELECT a.company, a.num, stopa.name, stopb.name\n",
        "FROM route a JOIN route b ON\n",
        "  (a.company=b.company AND a.num=b.num)\n",
        "  JOIN stops stopa ON (a.stop=stopa.id)\n",
        "  JOIN stops stopb ON (b.stop=stopb.id)\n",
        "WHERE \n",
        "(stopa.name='Craiglockhart' and stopb.name = 'London Road')\n",
        "or\n",
        "(stopb.name= 'Fairmilehead' and stopb.name=  'Tollcross')\n"
      ],
      "metadata": {
        "id": "ahDNjdJ2YP20"
      },
      "execution_count": null,
      "outputs": []
    }
  ]
}