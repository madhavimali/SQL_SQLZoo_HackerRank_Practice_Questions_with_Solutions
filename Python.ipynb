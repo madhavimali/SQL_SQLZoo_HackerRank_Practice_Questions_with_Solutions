{
  "nbformat": 4,
  "nbformat_minor": 0,
  "metadata": {
    "colab": {
      "provenance": [],
      "authorship_tag": "ABX9TyPux16iO5vk+LQF4yxx0bTp",
      "include_colab_link": true
    },
    "kernelspec": {
      "name": "python3",
      "display_name": "Python 3"
    },
    "language_info": {
      "name": "python"
    }
  },
  "cells": [
    {
      "cell_type": "markdown",
      "metadata": {
        "id": "view-in-github",
        "colab_type": "text"
      },
      "source": [
        "<a href=\"https://colab.research.google.com/github/madhavimali/SQL_SQLZoo_HackerRank_Practice_Questions_with_Solutions/blob/main/Python.ipynb\" target=\"_parent\"><img src=\"https://colab.research.google.com/assets/colab-badge.svg\" alt=\"Open In Colab\"/></a>"
      ]
    },
    {
      "cell_type": "markdown",
      "source": [],
      "metadata": {
        "id": "_EmcENXjE3_Z"
      }
    },
    {
      "cell_type": "code",
      "source": [],
      "metadata": {
        "id": "qPXufSuLE3gM"
      },
      "execution_count": null,
      "outputs": []
    },
    {
      "cell_type": "markdown",
      "source": [
        "An extra day is added to the calendar almost every four years as February 29, and the day is called a leap day. It corrects the calendar for the fact that our planet takes approximately 365.25 days to orbit the sun. A leap year contains a leap day.\n",
        "\n",
        "In the Gregorian calendar, three conditions are used to identify leap years:\n",
        "\n",
        "The year can be evenly divided by 4, is a leap year, unless:\n",
        "\n",
        "The year can be evenly divided by 100, it is NOT a leap year, unless:\n",
        "\n",
        "The year is also evenly divisible by 400. Then it is a leap year.\n",
        "\n",
        "This means that in the Gregorian calendar, the years 2000 and 2400 are leap years, while 1800, 1900, 2100, 2200, 2300 and 2500 are NOT leap years."
      ],
      "metadata": {
        "id": "RUIKqHrW5cRQ"
      }
    },
    {
      "cell_type": "code",
      "source": [
        "def is_leap(year):\n",
        "    leap = False\n",
        "    if year%400==0:\n",
        "      True\n",
        "    elif year%100!=0 and year%4==0:\n",
        "      print(True)\n",
        "    else:\n",
        "      return leap\n",
        "year = int(input())\n",
        "print(is_leap(year))"
      ],
      "metadata": {
        "colab": {
          "base_uri": "https://localhost:8080/"
        },
        "id": "poWRtmjbEom-",
        "outputId": "679b2300-6ff0-4b0c-bf95-9aa91b926dc2"
      },
      "execution_count": 10,
      "outputs": [
        {
          "output_type": "stream",
          "name": "stdout",
          "text": [
            "4400\n",
            "True\n",
            "None\n"
          ]
        }
      ]
    },
    {
      "cell_type": "code",
      "source": [
        "def is_leap(year):\n",
        "    \n",
        "    if year%400==0:\n",
        "      print(f'{year} is leap year.')\n",
        "    elif year%100!=0 and year%4==0:\n",
        "      print(f'{year} is leap year.')\n",
        "    else:\n",
        "      print(f'{year} is not leap year.')\n",
        "    return \n",
        "print(is_leap(2022))"
      ],
      "metadata": {
        "colab": {
          "base_uri": "https://localhost:8080/"
        },
        "id": "qNRPm85v9c14",
        "outputId": "89cd83fe-f60d-4cd7-a490-d2142c3db02b"
      },
      "execution_count": 7,
      "outputs": [
        {
          "output_type": "stream",
          "name": "stdout",
          "text": [
            "2022 is not leap year.\n",
            "None\n"
          ]
        }
      ]
    },
    {
      "cell_type": "code",
      "source": [
        "year = int(input('year: '))\n",
        "if year%400==0:\n",
        "  print(f'{year} is leap year.')\n",
        "elif year%100!=0 and year%4==0:\n",
        "  print(f'{year} is leap year.')\n",
        "else:\n",
        "  print(f'{year} is not leap year.')\n",
        "  "
      ],
      "metadata": {
        "colab": {
          "base_uri": "https://localhost:8080/"
        },
        "id": "eARMyGJ25bwg",
        "outputId": "aba5cac2-feca-4178-879f-f4e18c1da636"
      },
      "execution_count": 8,
      "outputs": [
        {
          "output_type": "stream",
          "name": "stdout",
          "text": [
            "year: 1990\n",
            "1990 is not leap year.\n"
          ]
        }
      ]
    },
    {
      "cell_type": "markdown",
      "source": [
        "The provided code stub reads and integer, n , from STDIN. For all non-negative integers i<n , print i^2 ."
      ],
      "metadata": {
        "id": "Y8RKc3hogYy9"
      }
    },
    {
      "cell_type": "code",
      "source": [
        "n = int(input())\n",
        "for i in range(0,n):\n",
        "  print(i**2)"
      ],
      "metadata": {
        "colab": {
          "base_uri": "https://localhost:8080/"
        },
        "id": "3etzGAO4f7xD",
        "outputId": "eaec83c4-dc8e-4373-c72b-e224aa005425"
      },
      "execution_count": null,
      "outputs": [
        {
          "output_type": "stream",
          "name": "stdout",
          "text": [
            "4\n",
            "0\n",
            "1\n",
            "4\n",
            "9\n"
          ]
        }
      ]
    },
    {
      "cell_type": "markdown",
      "source": [
        "The provided code stub reads two integers, a and b, from STDIN.\n",
        "\n",
        "Add logic to print two lines. The first line should contain the result of integer division,  a//b . \n",
        "\n",
        "The second line should contain the result of float division,  a/b .\n",
        "\n",
        "No rounding or formatting is necessary."
      ],
      "metadata": {
        "id": "DdSy36RofKg6"
      }
    },
    {
      "cell_type": "code",
      "source": [
        "a = int(input())\n",
        "b = int(input())\n",
        "print(a//b)\n",
        "print(a/b)"
      ],
      "metadata": {
        "colab": {
          "base_uri": "https://localhost:8080/"
        },
        "id": "dd0Nx59tfJ8u",
        "outputId": "3cd30900-0585-4087-8d75-e3e422c5b50e"
      },
      "execution_count": null,
      "outputs": [
        {
          "output_type": "stream",
          "name": "stdout",
          "text": [
            "3\n",
            "5\n",
            "0\n",
            "0.6\n"
          ]
        }
      ]
    },
    {
      "cell_type": "markdown",
      "source": [
        "The provided code stub reads two integers from STDIN, a and b. Add code to print three lines where:\n",
        "\n",
        "The first line contains the sum of the two numbers.\n",
        "\n",
        "The second line contains the difference of the two numbers (first - second).\n",
        "\n",
        "The third line contains the product of the two numbers."
      ],
      "metadata": {
        "id": "3qx_bndccsvN"
      }
    },
    {
      "cell_type": "code",
      "source": [
        "a = int(input())\n",
        "b = int(input())\n",
        "print(a+b)\n",
        "print(a-b)\n",
        "print(a*b)"
      ],
      "metadata": {
        "colab": {
          "base_uri": "https://localhost:8080/"
        },
        "id": "xVobrrzUcsCo",
        "outputId": "79652654-3686-4b6d-db9a-8ff629223b50"
      },
      "execution_count": null,
      "outputs": [
        {
          "output_type": "stream",
          "name": "stdout",
          "text": [
            "3\n",
            "5\n",
            "8\n",
            "-2\n",
            "15\n"
          ]
        }
      ]
    },
    {
      "cell_type": "markdown",
      "source": [
        "Given an integer, , perform the following conditional actions:\n",
        "\n",
        "If n is odd, print Weird\n",
        "\n",
        "If n is even and in the inclusive range of 2 to 5, print Not Weird\n",
        "\n",
        "If n is even and in the inclusive range of 6 to 20, print Weird\n",
        "\n",
        "If n is even and greater than 20, print Not Weird\n",
        "\n"
      ],
      "metadata": {
        "id": "85gnpxTUYfdU"
      }
    },
    {
      "cell_type": "code",
      "source": [
        "n = int(input('Number: '))\n",
        "if n % 2!= 0:\n",
        "  print('Weird')\n",
        "elif n%2 == 0:\n",
        "  if n>=2 and n<=5:\n",
        "    print('Not Weird')\n",
        "  elif n>=6 and n<=20:\n",
        "    print('Weird')\n",
        "  else:\n",
        "    print('Not Weird')"
      ],
      "metadata": {
        "colab": {
          "base_uri": "https://localhost:8080/"
        },
        "id": "pGfkrkqVYgM-",
        "outputId": "cd35656c-3f1b-4051-9f43-5220e50b87ee"
      },
      "execution_count": null,
      "outputs": [
        {
          "output_type": "stream",
          "name": "stdout",
          "text": [
            "Number: 3\n",
            "Weird\n"
          ]
        }
      ]
    },
    {
      "cell_type": "markdown",
      "source": [
        "write a program to get input string from user if string is 'hELlo' --> 'HelLO' "
      ],
      "metadata": {
        "id": "4nUmjXgZfNUE"
      }
    },
    {
      "cell_type": "code",
      "source": [],
      "metadata": {
        "id": "E0Ixmkyfbfyi"
      },
      "execution_count": null,
      "outputs": []
    },
    {
      "cell_type": "code",
      "source": [
        "from IPython.core.inputtransformer2 import ESCAPE_DOUBLES\n",
        "string_ = input('String is given: ')\n",
        "empty_str = ''\n",
        "for i in string_:\n",
        "  if i == i.upper():\n",
        "    #print(empty_str + i.lower())\n",
        "    print(\"\".join([empty_str, i.lower()]))\n",
        "  else: \n",
        "    #print(empty_str + i.upper())\n",
        "    print(\"\".join([empty_str, i.upper()]))\n",
        "empty_str"
      ],
      "metadata": {
        "colab": {
          "base_uri": "https://localhost:8080/",
          "height": 123
        },
        "id": "qM6UJWg4hpSw",
        "outputId": "5b936762-d20f-4227-e395-5294527bd4d5"
      },
      "execution_count": null,
      "outputs": [
        {
          "output_type": "stream",
          "name": "stdout",
          "text": [
            "String is given: Madh\n",
            "m\n",
            "A\n",
            "D\n",
            "H\n"
          ]
        },
        {
          "output_type": "execute_result",
          "data": {
            "text/plain": [
              "''"
            ],
            "application/vnd.google.colaboratory.intrinsic+json": {
              "type": "string"
            }
          },
          "metadata": {},
          "execution_count": 17
        }
      ]
    },
    {
      "cell_type": "markdown",
      "source": [
        "Consider 1,2,4,8 "
      ],
      "metadata": {
        "id": "Sa78SYf7Szyr"
      }
    },
    {
      "cell_type": "code",
      "source": [
        "{1,2,3,4}\n",
        "{2,4,5}\n",
        "{1,3} "
      ],
      "metadata": {
        "id": "yp5ETcHKMBWZ"
      },
      "execution_count": null,
      "outputs": []
    },
    {
      "cell_type": "code",
      "source": [
        "sum([1,2,3,4])"
      ],
      "metadata": {
        "colab": {
          "base_uri": "https://localhost:8080/"
        },
        "id": "tBET3JDgN0ul",
        "outputId": "72e27f72-cd31-447b-8f4f-f2ec8a9a695b"
      },
      "execution_count": null,
      "outputs": [
        {
          "output_type": "execute_result",
          "data": {
            "text/plain": [
              "10"
            ]
          },
          "metadata": {},
          "execution_count": 1
        }
      ]
    },
    {
      "cell_type": "markdown",
      "source": [
        "Consider a series  1+ 2+ 3+ 4+ 5 +..., ge the value of n from the userprint addition of the first n natural numbers whithout using loops and by using loops"
      ],
      "metadata": {
        "id": "xxHLw3VzB8V6"
      }
    },
    {
      "cell_type": "code",
      "source": [
        "# loop\n",
        "n = int(input('number: '))\n",
        "sum = 0\n",
        "for i in range (1, n+1):\n",
        "  sum = sum +i\n",
        "print(sum)"
      ],
      "metadata": {
        "colab": {
          "base_uri": "https://localhost:8080/"
        },
        "id": "8XAL9avWB9cW",
        "outputId": "2adf7ac8-2d74-4bc9-e349-804f4c22f0bb"
      },
      "execution_count": null,
      "outputs": [
        {
          "output_type": "stream",
          "name": "stdout",
          "text": [
            "number: 4\n",
            "10\n"
          ]
        }
      ]
    },
    {
      "cell_type": "code",
      "source": [
        "import pandas as pd\n",
        "import numpy as np\n",
        "n = int(input())\n",
        "a = np.array(range(1,n+1))\n",
        "b = pd.Series(a)\n",
        "t = b.sum()\n",
        "print(t)"
      ],
      "metadata": {
        "colab": {
          "base_uri": "https://localhost:8080/"
        },
        "id": "4p8bufl9LW7m",
        "outputId": "fd16bcfe-b4d9-4c16-effe-1ba8ed3d7d3f"
      },
      "execution_count": null,
      "outputs": [
        {
          "output_type": "stream",
          "name": "stdout",
          "text": [
            "4\n",
            "10\n"
          ]
        }
      ]
    },
    {
      "cell_type": "code",
      "source": [
        "s = [1,2,3.5,4.0]"
      ],
      "metadata": {
        "id": "-irRUn14JiqS"
      },
      "execution_count": 11,
      "outputs": []
    },
    {
      "cell_type": "code",
      "source": [
        "sum(s)"
      ],
      "metadata": {
        "colab": {
          "base_uri": "https://localhost:8080/"
        },
        "id": "KKcaq2MJJnxK",
        "outputId": "18cfc27f-6e59-4f84-f73d-1f179bb58e19"
      },
      "execution_count": 12,
      "outputs": [
        {
          "output_type": "execute_result",
          "data": {
            "text/plain": [
              "10.5"
            ]
          },
          "metadata": {},
          "execution_count": 12
        }
      ]
    },
    {
      "cell_type": "code",
      "source": [
        "def sum_numbers(numbers):\n",
        "    if len(numbers) == 0:\n",
        "      return 0\n",
        "    return numbers[0] + sum_numbers(numbers[1:])\n",
        "\n",
        "sum_numbers([1, 2, 3, 4, 5])"
      ],
      "metadata": {
        "colab": {
          "base_uri": "https://localhost:8080/"
        },
        "id": "zBxxxkVoHuXW",
        "outputId": "818a3739-458c-4088-ddbc-342dc3249f4d"
      },
      "execution_count": null,
      "outputs": [
        {
          "output_type": "execute_result",
          "data": {
            "text/plain": [
              "15"
            ]
          },
          "metadata": {},
          "execution_count": 28
        }
      ]
    },
    {
      "cell_type": "code",
      "source": [],
      "metadata": {
        "id": "FafBcjsxHuT1"
      },
      "execution_count": null,
      "outputs": []
    },
    {
      "cell_type": "code",
      "source": [
        "import numpy as np\n",
        "a = np.array(range(1,7))\n",
        "b= sum(a)\n",
        "b"
      ],
      "metadata": {
        "colab": {
          "base_uri": "https://localhost:8080/"
        },
        "id": "Pqhi4dSQF8jL",
        "outputId": "4342895c-e0b8-49fd-c44f-2c069036a374"
      },
      "execution_count": 13,
      "outputs": [
        {
          "output_type": "execute_result",
          "data": {
            "text/plain": [
              "21"
            ]
          },
          "metadata": {},
          "execution_count": 13
        }
      ]
    },
    {
      "cell_type": "code",
      "source": [
        "import math"
      ],
      "metadata": {
        "id": "EKOG6vSYG-PN"
      },
      "execution_count": 14,
      "outputs": []
    },
    {
      "cell_type": "code",
      "source": [
        "n = int(input('number: '))\n",
        "sum = 0\n",
        "if n>=1:\n",
        "  sum = sum + (n-1)"
      ],
      "metadata": {
        "id": "S_Vt61N4E65T"
      },
      "execution_count": null,
      "outputs": []
    },
    {
      "cell_type": "markdown",
      "source": [
        "Create a program to get value of n from the user and print first n number from the fibonacci series "
      ],
      "metadata": {
        "id": "aEee8o00-ewb"
      }
    },
    {
      "cell_type": "code",
      "source": [
        "0,1,1,2,3,5,8,13,21,34,..."
      ],
      "metadata": {
        "id": "FQR0-EEQ_h_c"
      },
      "execution_count": null,
      "outputs": []
    },
    {
      "cell_type": "code",
      "source": [
        "def fibonacci(n):\n",
        "    if n <= 1:\n",
        "        return n\n",
        "    return fibonacci(n-2) + fibonacci(n-1)\n",
        " \n",
        " \n",
        "if __name__ == \"__main__\":\n",
        "    n = 5\n",
        "    print(fibonacci(n))"
      ],
      "metadata": {
        "colab": {
          "base_uri": "https://localhost:8080/"
        },
        "id": "-rG8UlisC0Pn",
        "outputId": "af7fa2ba-38f4-4f2a-96f9-5ebd1dd5bb85"
      },
      "execution_count": null,
      "outputs": [
        {
          "output_type": "stream",
          "name": "stdout",
          "text": [
            "12\n"
          ]
        }
      ]
    },
    {
      "cell_type": "code",
      "source": [
        "\n",
        "def fibonacci(n):\n",
        "  if n<=1:\n",
        "    return n\n",
        "  return fibonacci(n-1)+fibonacci(n-2)\n",
        "\n",
        "\n",
        "if __name__ == \"__main__\":\n",
        "    n = 3\n",
        "    print(fibonacci(n))"
      ],
      "metadata": {
        "colab": {
          "base_uri": "https://localhost:8080/"
        },
        "id": "8BngkkPvCOAg",
        "outputId": "1033cf78-c67a-4d80-e958-04b8db54866a"
      },
      "execution_count": null,
      "outputs": [
        {
          "output_type": "stream",
          "name": "stdout",
          "text": [
            "2\n"
          ]
        }
      ]
    },
    {
      "cell_type": "code",
      "source": [
        "fibonacci(5)"
      ],
      "metadata": {
        "colab": {
          "base_uri": "https://localhost:8080/"
        },
        "id": "DjMPdD2BCw6_",
        "outputId": "a41c986e-460c-4ba3-c901-d7d7aa4709fe"
      },
      "execution_count": null,
      "outputs": [
        {
          "output_type": "execute_result",
          "data": {
            "text/plain": [
              "-5"
            ]
          },
          "metadata": {},
          "execution_count": 9
        }
      ]
    },
    {
      "cell_type": "code",
      "source": [
        "n  = int(input('number: '))\n",
        "\n",
        "while n>0:\n",
        "  if n == 1:\n",
        "    print(0)\n",
        "  elif n == 2:\n",
        "    print(0,1)\n",
        "  elif n > 2:\n"
      ],
      "metadata": {
        "colab": {
          "base_uri": "https://localhost:8080/",
          "height": 131
        },
        "id": "GSGzNow6-jZP",
        "outputId": "bbe423e5-b9c4-4028-efab-d322ec7526ce"
      },
      "execution_count": null,
      "outputs": [
        {
          "output_type": "error",
          "ename": "SyntaxError",
          "evalue": "ignored",
          "traceback": [
            "\u001b[0;36m  File \u001b[0;32m\"<ipython-input-10-329e3bdb72c2>\"\u001b[0;36m, line \u001b[0;32m8\u001b[0m\n\u001b[0;31m    elif n > 2:\u001b[0m\n\u001b[0m               ^\u001b[0m\n\u001b[0;31mSyntaxError\u001b[0m\u001b[0;31m:\u001b[0m unexpected EOF while parsing\n"
          ]
        }
      ]
    },
    {
      "cell_type": "markdown",
      "source": [
        "Find all the Magic Numbers in the interval in Python"
      ],
      "metadata": {
        "id": "8ry4s8Qo8YY4"
      }
    },
    {
      "cell_type": "code",
      "source": [
        "import math\n",
        "\n",
        "def magic_number(num):\n",
        "  digitCount = int(math.log10(num))+1\n",
        "  sumOfDigits = 0\n",
        "\n",
        "  temp = num #copying num\n",
        "\n",
        "  #calculating sum of digits of temp(i.e num) until\n",
        "  #sumOfDigits is a single digit\n",
        "  while( digitCount > 1):\n",
        "\n",
        "    sumOfDigits = 0\n",
        "\n",
        "    while(temp > 0):\n",
        "      sumOfDigits += temp%10\n",
        "      temp = temp//10\n",
        "\n",
        "    temp = sumOfDigits\n",
        "    #count the digits of sumOfDigits\n",
        "    digitCount = int(math.log10(sumOfDigits))+1\n",
        "\n",
        "  #check for sumOfDigits == 1\n",
        "  if(sumOfDigits == 1):\n",
        "      print(num)\n",
        "\n",
        "low = int(input(\"Enter lower interval value \\n\"))\n",
        "up = int(input(\"Enter upper interval value \\n\"))\n",
        "\n",
        "print(\"Magic numbers between {x} and {y} are\".format(x=low,y=up))\n",
        "\n",
        "for num in range(low,up+1):\n",
        "    magic_number(num)"
      ],
      "metadata": {
        "id": "eT0G7PBm8Wu0"
      },
      "execution_count": null,
      "outputs": []
    },
    {
      "cell_type": "markdown",
      "source": [
        "Create a program to get integer from the user and check that it is magical or not"
      ],
      "metadata": {
        "id": "7r_6UV8UsMja"
      }
    },
    {
      "cell_type": "code",
      "source": [
        "import math\n",
        "\n",
        "num = int(input(\"Enter a Number \\n\"))\n",
        "digitCount = int(math.log10(num))+1\n",
        "sumOfDigits = 0\n",
        "\n",
        "temp = num #copying num\n",
        "\n",
        "#calculating sum of digits of temp(i.e num) until\n",
        "#sumOfDigits is a single digit\n",
        "while( digitCount > 1):\n",
        "\n",
        "  sumOfDigits = 0\n",
        "\n",
        "  while(temp > 0):\n",
        "    sumOfDigits += temp%10\n",
        "    temp = temp//10\n",
        "\n",
        "  temp = sumOfDigits\n",
        "  #count the digits of sumOfDigits\n",
        "  digitCount = int(math.log10(sumOfDigits))+1\n",
        "   \n",
        "    \n",
        "#check whether sumOfDigits == 1\n",
        "if(sumOfDigits == 1):\n",
        "    print(\"Magic number\")\n",
        "else:\n",
        "    print(\"Not a magic number\")"
      ],
      "metadata": {
        "colab": {
          "base_uri": "https://localhost:8080/"
        },
        "id": "fbKo04SK9EkY",
        "outputId": "cb635aa1-e37d-4373-c26a-e2fd43107878"
      },
      "execution_count": null,
      "outputs": [
        {
          "output_type": "stream",
          "name": "stdout",
          "text": [
            "Enter a Number \n",
            "345\n",
            "Not a magic number\n"
          ]
        }
      ]
    },
    {
      "cell_type": "code",
      "source": [
        "def magical_num(x):\n",
        "  sum = 0 \n",
        "  while x != 0:\n",
        "    dig = x%10 \n",
        "    sum = sum + dig\n",
        "    x = x // 10\n",
        "    continue\n",
        "  #print(sum)\n",
        "  sum1 = 0\n",
        "  while sum != 0:\n",
        "    dig = sum%10 \n",
        "    sum1 = sum1 + dig\n",
        "    sum = sum // 10\n",
        "    continue\n",
        "  print(sum1)\n"
      ],
      "metadata": {
        "id": "pfQltHv6sOKN"
      },
      "execution_count": null,
      "outputs": []
    },
    {
      "cell_type": "code",
      "source": [
        "magical_num(23456782)"
      ],
      "metadata": {
        "colab": {
          "base_uri": "https://localhost:8080/"
        },
        "id": "kuXvPoznvLj-",
        "outputId": "ccb9c000-4979-4222-eb52-edbd9414df28"
      },
      "execution_count": null,
      "outputs": [
        {
          "output_type": "stream",
          "name": "stdout",
          "text": [
            "10\n"
          ]
        }
      ]
    },
    {
      "cell_type": "markdown",
      "source": [
        "create a program to get lower and upper values and print the prime number between the lower and upper vlues."
      ],
      "metadata": {
        "id": "1OCP_gg3vjV4"
      }
    },
    {
      "cell_type": "code",
      "source": [
        "list_ = []\n",
        "l = int(input('lower value :'))\n",
        "u = int(input('upper value: '))\n",
        "\n",
        "for i in range(l, u+1):\n",
        "  if i > 1:\n",
        "    for a in range(2, i):\n",
        "      if i%a == 0:\n",
        "         break\n",
        "    else:\n",
        "       print(f'{i}')\n",
        "    \n"
      ],
      "metadata": {
        "colab": {
          "base_uri": "https://localhost:8080/"
        },
        "id": "9YjtsYJVg0mv",
        "outputId": "3c554e12-89c4-4c74-a76b-e25d8b1e3898"
      },
      "execution_count": null,
      "outputs": [
        {
          "output_type": "stream",
          "name": "stdout",
          "text": [
            "lower value :2\n",
            "upper value: 22\n",
            "2\n",
            "3\n",
            "5\n",
            "7\n",
            "11\n",
            "13\n",
            "17\n",
            "19\n",
            "[]\n"
          ]
        }
      ]
    },
    {
      "cell_type": "code",
      "source": [
        "\n",
        "for a in range(l, u+1):\n",
        "  def prime_num(a):\n",
        "    for i in range(2,a):\n",
        "      if a%i == 0:\n",
        "        continue\n",
        "    if a%i == 0:\n",
        "      print(f'{a} it is not prime number')\n",
        "    else:\n",
        "      print(f'{a} is prime number')\n",
        "  "
      ],
      "metadata": {
        "colab": {
          "base_uri": "https://localhost:8080/"
        },
        "id": "W87i1Z29vimc",
        "outputId": "c3e790b6-28ca-4ae8-da66-ebf606dc0e36"
      },
      "execution_count": null,
      "outputs": [
        {
          "name": "stdout",
          "output_type": "stream",
          "text": [
            "lower value:4\n",
            "upper value: 8\n"
          ]
        }
      ]
    },
    {
      "cell_type": "code",
      "source": [
        "prime_num(a)"
      ],
      "metadata": {
        "colab": {
          "base_uri": "https://localhost:8080/"
        },
        "id": "1dFWSlzIzIaz",
        "outputId": "5e762ade-c60b-4c09-dd72-ea5f21890d3f"
      },
      "execution_count": null,
      "outputs": [
        {
          "output_type": "stream",
          "name": "stdout",
          "text": [
            "8 is prime number\n"
          ]
        }
      ]
    },
    {
      "cell_type": "markdown",
      "source": [
        "Create a program to get number is prime or not"
      ],
      "metadata": {
        "id": "hstaC2XRsgr5"
      }
    },
    {
      "cell_type": "code",
      "source": [
        "def prime_num(a):\n",
        "  for i in range(2,a):\n",
        "    if a%i == 0:\n",
        "      continue\n",
        "  if a%i == 0:\n",
        "    print(f'{a} it is not prime number')\n",
        "  else:\n",
        "    print(f'{a} is prime number')"
      ],
      "metadata": {
        "id": "3Nc-T7VXsft3"
      },
      "execution_count": null,
      "outputs": []
    },
    {
      "cell_type": "code",
      "source": [
        "prime_num(7)"
      ],
      "metadata": {
        "colab": {
          "base_uri": "https://localhost:8080/"
        },
        "id": "CXr3cWI4upPT",
        "outputId": "043e3a96-808c-436c-9f7a-cba8aa121e68"
      },
      "execution_count": null,
      "outputs": [
        {
          "output_type": "stream",
          "name": "stdout",
          "text": [
            "7 is prime number\n"
          ]
        }
      ]
    },
    {
      "cell_type": "markdown",
      "source": [
        "create program to get integer from user and check in is perfect or not"
      ],
      "metadata": {
        "id": "_2gXxTJzeM9G"
      }
    },
    {
      "cell_type": "code",
      "source": [
        "6 =1,2,3,6 divisors\n",
        "1+2+3+6 =12 = 2*6"
      ],
      "metadata": {
        "id": "wnLnJ7ZBedIN"
      },
      "execution_count": null,
      "outputs": []
    },
    {
      "cell_type": "code",
      "source": [
        "#a =int(input('number: '))\n",
        "\n",
        "def num_is_perfect(a):\n",
        "  sum = 0\n",
        "  for i in range(1,a//2+1):\n",
        "    if a%i == 0:\n",
        "      sum = sum +i\n",
        "  if sum == a:\n",
        "    print(f'{a} is perfect number')\n",
        "  else:\n",
        "    print(f'{a} is not perfect number')\n",
        "      \n",
        "  "
      ],
      "metadata": {
        "id": "u2qLNSOpe1xQ"
      },
      "execution_count": null,
      "outputs": []
    },
    {
      "cell_type": "code",
      "source": [
        "for i in range(1,int(6/2)):\n",
        "  if 6%i == 0:\n",
        "    l.append(i)\n",
        "  l_sum = sum(l)\n",
        "\n",
        "l_sum"
      ],
      "metadata": {
        "colab": {
          "base_uri": "https://localhost:8080/"
        },
        "id": "O7qvEDR-hyw1",
        "outputId": "1173306c-7b70-4e70-9c71-84be03a6f55a"
      },
      "execution_count": null,
      "outputs": [
        {
          "output_type": "execute_result",
          "data": {
            "text/plain": [
              "57"
            ]
          },
          "metadata": {},
          "execution_count": 22
        }
      ]
    },
    {
      "cell_type": "code",
      "source": [
        "num_is_perfect(6)"
      ],
      "metadata": {
        "colab": {
          "base_uri": "https://localhost:8080/"
        },
        "id": "zkZTgfn4gpfF",
        "outputId": "02ff3393-e9be-40f5-cfc8-1895065a826e"
      },
      "execution_count": null,
      "outputs": [
        {
          "output_type": "stream",
          "name": "stdout",
          "text": [
            "6 is perfect number\n"
          ]
        }
      ]
    },
    {
      "cell_type": "markdown",
      "source": [
        "Create a prgram to get integer from user and print the addition of the integer\n"
      ],
      "metadata": {
        "id": "O332rHOxbPYt"
      }
    },
    {
      "cell_type": "code",
      "source": [],
      "metadata": {
        "id": "BPT2YtwHcmhT"
      },
      "execution_count": null,
      "outputs": []
    },
    {
      "cell_type": "code",
      "source": [
        "a = int(input('num1:'))\n",
        "addition = 0\n",
        "while a != 0:\n",
        "  dig = a%10\n",
        "  addition = addition +dig\n",
        "  a = a//10\n",
        "print(addition)"
      ],
      "metadata": {
        "colab": {
          "base_uri": "https://localhost:8080/"
        },
        "id": "mv83VYy6bl6Q",
        "outputId": "d023b93e-a54f-457a-b168-715afbf9f6d0"
      },
      "execution_count": null,
      "outputs": [
        {
          "output_type": "stream",
          "name": "stdout",
          "text": [
            "num1:345\n",
            "12\n"
          ]
        }
      ]
    },
    {
      "cell_type": "markdown",
      "source": [
        "Create a program integer from user using while loop reverse the number."
      ],
      "metadata": {
        "id": "UUgQXakvWBwq"
      }
    },
    {
      "cell_type": "code",
      "source": [
        "a =  int(input('number: '))\n",
        "rv = 0\n",
        "while a != 0:\n",
        "  digit = a%10\n",
        "  rv = rv*10 + digit\n",
        "  a = a//10\n",
        "print(rv)"
      ],
      "metadata": {
        "colab": {
          "base_uri": "https://localhost:8080/"
        },
        "id": "Y8aWJXYtXNaP",
        "outputId": "7a78bbc2-7597-4718-9bcf-bc0294ea259e"
      },
      "execution_count": null,
      "outputs": [
        {
          "output_type": "stream",
          "name": "stdout",
          "text": [
            "number: 4\n",
            "4\n"
          ]
        }
      ]
    },
    {
      "cell_type": "code",
      "source": [],
      "metadata": {
        "id": "kaecnD2SWCnM"
      },
      "execution_count": null,
      "outputs": []
    },
    {
      "cell_type": "markdown",
      "source": [
        "create a program to get a string from user and checks that is palindrome or not.\n"
      ],
      "metadata": {
        "id": "EQaiuSuaUreH"
      }
    },
    {
      "cell_type": "code",
      "source": [
        "x = input ('string: ')\n",
        "if x[::-1] == x[::]:\n",
        "  print('x is polindrome')\n",
        "else:\n",
        "  print('x is not polindome') "
      ],
      "metadata": {
        "id": "TXN9AU7kCApE",
        "colab": {
          "base_uri": "https://localhost:8080/"
        },
        "outputId": "fbd5b164-fe9b-42bd-dc3c-13bea10acbef"
      },
      "execution_count": null,
      "outputs": [
        {
          "output_type": "stream",
          "name": "stdout",
          "text": [
            "string: 2332\n",
            "x is polindrome\n"
          ]
        }
      ]
    },
    {
      "cell_type": "markdown",
      "source": [
        "Create a program to get year from user and check that is it leap year or not"
      ],
      "metadata": {
        "id": "5QW2s-wNSbz6"
      }
    },
    {
      "cell_type": "code",
      "source": [],
      "metadata": {
        "id": "3VSTOUYjUxPQ"
      },
      "execution_count": null,
      "outputs": []
    },
    {
      "cell_type": "code",
      "source": [
        "num = int(input('year:'))\n",
        "if num%400==0:\n",
        "  print('it is leap year')\n",
        "elif num%4==0 and num%100 != 0:\n",
        "  print('it is also leap year')\n",
        "else:\n",
        "  print('it is not leap year')"
      ],
      "metadata": {
        "colab": {
          "base_uri": "https://localhost:8080/"
        },
        "id": "xpIik_myUJWA",
        "outputId": "2bae87f3-8bfd-4e93-8897-c2580400f0b1"
      },
      "execution_count": null,
      "outputs": [
        {
          "output_type": "stream",
          "name": "stdout",
          "text": [
            "year:199654\n",
            "it is not leap year\n"
          ]
        }
      ]
    },
    {
      "cell_type": "markdown",
      "source": [
        "Create a program to get two numbers from user print additon substraction, multipication, module and integer division"
      ],
      "metadata": {
        "id": "mIsaPmocGqN3"
      }
    },
    {
      "cell_type": "code",
      "source": [],
      "metadata": {
        "id": "_2mCvbc3Gpr4"
      },
      "execution_count": null,
      "outputs": []
    },
    {
      "cell_type": "markdown",
      "source": [
        "Create a program to get input from user and check it is string or number. If it is string, then again that it is upper case or lower case."
      ],
      "metadata": {
        "id": "crEfuczM-6tg"
      }
    },
    {
      "cell_type": "code",
      "source": [
        "def isNumber(x):\n",
        "    if type(x) == int:\n",
        "         return True\n",
        "    else:\n",
        "         return False\n",
        " \n",
        " \n",
        "# Driver Code\n",
        "\n",
        "x = 'qwe'\n",
        " \n",
        "# Function Call\n",
        " \n",
        "# for input1\n",
        "if isNumber(x):\n",
        "    print(\"Integer\")\n",
        "else:\n",
        "    print(f\"String {x.isupper()}\")\n",
        "\n"
      ],
      "metadata": {
        "colab": {
          "base_uri": "https://localhost:8080/"
        },
        "id": "M47j4vlhDwpb",
        "outputId": "8ab4ebf5-9017-4d98-f610-76fdce55f3aa"
      },
      "execution_count": null,
      "outputs": [
        {
          "output_type": "stream",
          "name": "stdout",
          "text": [
            "String False\n"
          ]
        }
      ]
    },
    {
      "cell_type": "code",
      "source": [
        "\n",
        "def num(x):\n",
        "  if type(x) == int:\n",
        "    return True\n",
        "  else:\n",
        "    return False\n",
        "\n",
        "\n"
      ],
      "metadata": {
        "id": "K9-smj_fCkfK"
      },
      "execution_count": null,
      "outputs": []
    },
    {
      "cell_type": "code",
      "source": [
        "num('fr')"
      ],
      "metadata": {
        "colab": {
          "base_uri": "https://localhost:8080/"
        },
        "id": "oOuCydeDC7No",
        "outputId": "36530d01-2dfc-40a9-d787-070dcffb4c1d"
      },
      "execution_count": null,
      "outputs": [
        {
          "output_type": "execute_result",
          "data": {
            "text/plain": [
              "False"
            ]
          },
          "metadata": {},
          "execution_count": 28
        }
      ]
    },
    {
      "cell_type": "code",
      "source": [
        "a = int(input())\n",
        "if type(a) != str:\n",
        "  print('it is number')\n",
        "else:\n",
        "  print('it is string')"
      ],
      "metadata": {
        "colab": {
          "base_uri": "https://localhost:8080/"
        },
        "id": "NbKf2lJb-xOr",
        "outputId": "30242522-728a-4f50-c58e-083615ad2f0c"
      },
      "execution_count": null,
      "outputs": [
        {
          "output_type": "stream",
          "name": "stdout",
          "text": [
            "3\n",
            "it is string\n"
          ]
        }
      ]
    },
    {
      "cell_type": "markdown",
      "source": [
        "Python program to check given character is vowel or consonant. "
      ],
      "metadata": {
        "id": "sTbfzrnZLqGd"
      }
    },
    {
      "cell_type": "code",
      "source": [
        "\n",
        "vowel = ['a', 'e', 'i', 'o', 'u']\n",
        "a = input('letter: ')\n",
        "for i in vowel:\n",
        "  if i == a :\n",
        "    print(f'{a} is vowel')\n",
        "    break\n",
        "else:\n",
        "  print(f'{a} is consonant')\n"
      ],
      "metadata": {
        "colab": {
          "base_uri": "https://localhost:8080/"
        },
        "id": "-iRHY2zbLsaS",
        "outputId": "78929fcc-44c8-4cdc-dc41-06d06aef20bb"
      },
      "execution_count": null,
      "outputs": [
        {
          "output_type": "stream",
          "name": "stdout",
          "text": [
            "letter: i\n",
            "i is vowel\n"
          ]
        }
      ]
    },
    {
      "cell_type": "markdown",
      "source": [
        "Number is even or not"
      ],
      "metadata": {
        "id": "thJfoCjRJbIl"
      }
    },
    {
      "cell_type": "code",
      "source": [
        "a = int(input('Number: '))\n",
        "if a%2==0:\n",
        "  print(f'{a} is even')\n",
        "else:\n",
        "  print(f'{a} is not even')"
      ],
      "metadata": {
        "colab": {
          "base_uri": "https://localhost:8080/"
        },
        "id": "lNkx-B9mI-nr",
        "outputId": "9a351793-f84b-46e4-ec13-7ca78ec7e7f5"
      },
      "execution_count": null,
      "outputs": [
        {
          "output_type": "stream",
          "name": "stdout",
          "text": [
            "Numer: 9\n",
            "9 is not even\n"
          ]
        }
      ]
    },
    {
      "cell_type": "markdown",
      "source": [
        "Calculate square of number.\n"
      ],
      "metadata": {
        "id": "mEbMbEldKbCN"
      }
    },
    {
      "cell_type": "code",
      "source": [
        "a = input('Number: ')\n",
        "sq_num = int(a)*int(a)\n",
        "print(sq_num)"
      ],
      "metadata": {
        "colab": {
          "base_uri": "https://localhost:8080/"
        },
        "id": "naIWmnaDI-Ym",
        "outputId": "3c7019ee-3e4d-4daf-a4cd-89028db88f50"
      },
      "execution_count": null,
      "outputs": [
        {
          "output_type": "stream",
          "name": "stdout",
          "text": [
            "Number: 4\n",
            "16\n"
          ]
        }
      ]
    },
    {
      "cell_type": "code",
      "source": [
        "a = input('Number: ')\n",
        "sq_num = int(a)**2\n",
        "print(sq_num)"
      ],
      "metadata": {
        "colab": {
          "base_uri": "https://localhost:8080/"
        },
        "id": "ckx29-A3LYzF",
        "outputId": "ee7d0f69-1c79-4a6b-c8e5-a63f8d8e866b"
      },
      "execution_count": null,
      "outputs": [
        {
          "output_type": "stream",
          "name": "stdout",
          "text": [
            "Number: 9\n",
            "81\n"
          ]
        }
      ]
    },
    {
      "cell_type": "code",
      "source": [],
      "metadata": {
        "id": "GaE6A2r-Lox9"
      },
      "execution_count": null,
      "outputs": []
    },
    {
      "cell_type": "code",
      "execution_count": null,
      "metadata": {
        "colab": {
          "base_uri": "https://localhost:8080/"
        },
        "id": "SiL-i01UiDdf",
        "outputId": "5b4183d8-e8bb-4be7-8058-4856e3c6d947"
      },
      "outputs": [
        {
          "output_type": "stream",
          "name": "stdout",
          "text": [
            "Twinkle, twinkle, little star \n",
            "\tHow I wonder what you are! \n",
            "\t\tUp above the world so high, \n",
            "\t\tLike a diamond in the sky. \n",
            "Twinkle, twinkle, little star, \n",
            "\tHow I wonder what you are!\n"
          ]
        }
      ],
      "source": [
        "print(\"Twinkle, twinkle, little star \\n\\tHow I wonder what you are! \\n\\t\\tUp above the world so high, \\n\\t\\tLike a diamond in the sky. \\nTwinkle, twinkle, little star, \\n\\tHow I wonder what you are!\")"
      ]
    },
    {
      "cell_type": "code",
      "source": [
        "#Python version i am using\n",
        "import sys    #sys: system-specific\n",
        "print(\"Python version:\", sys.version)\n",
        "print(\"Python version information:\", sys.version_info)"
      ],
      "metadata": {
        "colab": {
          "base_uri": "https://localhost:8080/"
        },
        "id": "7vtzucM0qSF8",
        "outputId": "27357f07-d37a-496c-dc98-38e78b79bc1e"
      },
      "execution_count": null,
      "outputs": [
        {
          "output_type": "stream",
          "name": "stdout",
          "text": [
            "Python version: 3.7.13 (default, Apr 24 2022, 01:04:09) \n",
            "[GCC 7.5.0]\n",
            "Python version information: sys.version_info(major=3, minor=7, micro=13, releaselevel='final', serial=0)\n"
          ]
        }
      ]
    },
    {
      "cell_type": "code",
      "source": [
        "#current date and time\n",
        "import datetime\n",
        "a= datetime.datetime.now()\n",
        "print(\"present date time:\", datetime.datetime.now().strftime(\"%Y-%M-%D %H:%M:%S\"))   #f stand for format\n",
        "#OR\n",
        "print(a.strftime(\"%Y-%M-%D %H:%M:%S\"))"
      ],
      "metadata": {
        "colab": {
          "base_uri": "https://localhost:8080/"
        },
        "id": "4kpTq_SGqwDR",
        "outputId": "c3d33b73-b0c7-4907-f05b-33dd2e23e3b4"
      },
      "execution_count": null,
      "outputs": [
        {
          "output_type": "stream",
          "name": "stdout",
          "text": [
            "present date time: 2022-18-05/24/22 06:18:32\n",
            "2022-18-05/24/22 06:18:32\n"
          ]
        }
      ]
    },
    {
      "cell_type": "code",
      "source": [
        "from math import pi\n",
        "r = float(input(\"r= \"))\n",
        "Area= str(pi*r*r)\n",
        "print(\"Area:\", Area)\n"
      ],
      "metadata": {
        "colab": {
          "base_uri": "https://localhost:8080/"
        },
        "id": "1kDhTYBPubsn",
        "outputId": "17a64c13-f105-4463-8695-0eaca77f135e"
      },
      "execution_count": null,
      "outputs": [
        {
          "output_type": "stream",
          "name": "stdout",
          "text": [
            "r= 1.2\n",
            "Area: 4.523893421169302\n"
          ]
        }
      ]
    },
    {
      "cell_type": "code",
      "source": [
        "# Write a Python program which accepts the user's first and last name and print them in reverse order with a space between them.\n",
        "first_name= input(\"fname: \")\n",
        "last_name= input(\"lname: \") \n",
        "print(last_name + \" \" + first_name)"
      ],
      "metadata": {
        "colab": {
          "base_uri": "https://localhost:8080/"
        },
        "id": "3upcOU-JEloE",
        "outputId": "cfb7e117-d368-4252-9171-58eb59238036"
      },
      "execution_count": null,
      "outputs": [
        {
          "output_type": "stream",
          "name": "stdout",
          "text": [
            "fname: Madhavi\n",
            "lname: Mali\n",
            "Mali Madhavi\n"
          ]
        }
      ]
    },
    {
      "cell_type": "code",
      "source": [
        "#Write a Python program which accepts a sequence of comma-separated numbers from user and generate a list and a tuple with those numbers.\n",
        "value = input(\"comma seperated numbers:\")\n",
        "list = value.split(\",\")\n",
        "print(\"List:\", list)\n",
        "tuple = tuple(list)\n",
        "print(tuple)"
      ],
      "metadata": {
        "id": "jCxJTs4GKXZG",
        "colab": {
          "base_uri": "https://localhost:8080/",
          "height": 252
        },
        "outputId": "97188243-a6f6-46ed-9287-d757bcf4b11e"
      },
      "execution_count": null,
      "outputs": [
        {
          "output_type": "stream",
          "name": "stdout",
          "text": [
            "comma seperated numbers:2,3,4\n",
            "List: ['2', '3', '4']\n"
          ]
        },
        {
          "output_type": "error",
          "ename": "TypeError",
          "evalue": "ignored",
          "traceback": [
            "\u001b[0;31m---------------------------------------------------------------------------\u001b[0m",
            "\u001b[0;31mTypeError\u001b[0m                                 Traceback (most recent call last)",
            "\u001b[0;32m<ipython-input-17-eea3c578d687>\u001b[0m in \u001b[0;36m<module>\u001b[0;34m()\u001b[0m\n\u001b[1;32m      3\u001b[0m \u001b[0mlist\u001b[0m \u001b[0;34m=\u001b[0m \u001b[0mvalue\u001b[0m\u001b[0;34m.\u001b[0m\u001b[0msplit\u001b[0m\u001b[0;34m(\u001b[0m\u001b[0;34m\",\"\u001b[0m\u001b[0;34m)\u001b[0m\u001b[0;34m\u001b[0m\u001b[0;34m\u001b[0m\u001b[0m\n\u001b[1;32m      4\u001b[0m \u001b[0mprint\u001b[0m\u001b[0;34m(\u001b[0m\u001b[0;34m\"List:\"\u001b[0m\u001b[0;34m,\u001b[0m \u001b[0mlist\u001b[0m\u001b[0;34m)\u001b[0m\u001b[0;34m\u001b[0m\u001b[0;34m\u001b[0m\u001b[0m\n\u001b[0;32m----> 5\u001b[0;31m \u001b[0mtuple\u001b[0m \u001b[0;34m=\u001b[0m \u001b[0mtuple\u001b[0m\u001b[0;34m(\u001b[0m\u001b[0mlist\u001b[0m\u001b[0;34m)\u001b[0m\u001b[0;34m\u001b[0m\u001b[0;34m\u001b[0m\u001b[0m\n\u001b[0m\u001b[1;32m      6\u001b[0m \u001b[0mprint\u001b[0m\u001b[0;34m(\u001b[0m\u001b[0mtuple\u001b[0m\u001b[0;34m)\u001b[0m\u001b[0;34m\u001b[0m\u001b[0;34m\u001b[0m\u001b[0m\n",
            "\u001b[0;31mTypeError\u001b[0m: 'tuple' object is not callable"
          ]
        }
      ]
    },
    {
      "cell_type": "code",
      "source": [
        "type(list)"
      ],
      "metadata": {
        "colab": {
          "base_uri": "https://localhost:8080/"
        },
        "id": "59lI2l3FV_Xi",
        "outputId": "bb25aa3e-7e6d-47c6-9b0d-1b9b90b6c69f"
      },
      "execution_count": null,
      "outputs": [
        {
          "output_type": "execute_result",
          "data": {
            "text/plain": [
              "list"
            ]
          },
          "metadata": {},
          "execution_count": 11
        }
      ]
    },
    {
      "cell_type": "code",
      "source": [
        "type(tuple)"
      ],
      "metadata": {
        "colab": {
          "base_uri": "https://localhost:8080/"
        },
        "id": "E701EtVXWGjz",
        "outputId": "acc6dcf9-3e32-4d7d-c87d-7499a066a1e8"
      },
      "execution_count": null,
      "outputs": [
        {
          "output_type": "execute_result",
          "data": {
            "text/plain": [
              "tuple"
            ]
          },
          "metadata": {},
          "execution_count": 12
        }
      ]
    },
    {
      "cell_type": "code",
      "source": [
        "#. Write a Python program to accept a filename from the user and print the extension of that.\n",
        "filename = input(\"initial filename:\")\n",
        "f_extend = filename.split(\".\")\n",
        "print(\"the extention of the file name: \" + repr(f_extend[-1]))"
      ],
      "metadata": {
        "colab": {
          "base_uri": "https://localhost:8080/"
        },
        "id": "VDr-ffCLb9ZY",
        "outputId": "0a00329d-8658-4740-ff03-facc14280daf"
      },
      "execution_count": null,
      "outputs": [
        {
          "output_type": "stream",
          "name": "stdout",
          "text": [
            "initial filename:Madhavi.Mali\n",
            "the extention of the file name: 'Mali'\n"
          ]
        }
      ]
    },
    {
      "cell_type": "code",
      "source": [
        "#Write a Python program to display the first and last colors from the following list. \n",
        "color_list = [\"Red\",\"Green\",\"White\" ,\"Black\"]\n",
        "print(color_list[0])\n",
        "print(color_list[-1])"
      ],
      "metadata": {
        "colab": {
          "base_uri": "https://localhost:8080/"
        },
        "id": "cCg-X6djb9Mz",
        "outputId": "d7979e0c-a543-47ea-af55-eabe6fadfa89"
      },
      "execution_count": null,
      "outputs": [
        {
          "output_type": "stream",
          "name": "stdout",
          "text": [
            "Red\n",
            "Black\n"
          ]
        }
      ]
    },
    {
      "cell_type": "code",
      "source": [
        "# %s specifically is used to perform concatenation of strings together.\n",
        "#%s is a placeholder for the to be printed elements\n",
        "#Python uses the ‘%s’ for formatting strings \n",
        "\n",
        "color_list = [\"Red\",\"Green\",\"White\" ,\"Black\"]\n",
        "print(\"%s %s\" % (color_list[0], color_list[-1]))\n",
        "print(\"%s is a first color and %s is a last color.\" % (color_list[0],color_list[-1]))"
      ],
      "metadata": {
        "colab": {
          "base_uri": "https://localhost:8080/"
        },
        "id": "KIucwwDtb86p",
        "outputId": "2b488574-3afc-4101-e0b7-b4858e9813ee"
      },
      "execution_count": null,
      "outputs": [
        {
          "output_type": "stream",
          "name": "stdout",
          "text": [
            "Red Black\n",
            "Red is a first color and Black is a last color.\n"
          ]
        }
      ]
    },
    {
      "cell_type": "code",
      "source": [
        "print(color_list[0], color_list[-1])"
      ],
      "metadata": {
        "colab": {
          "base_uri": "https://localhost:8080/"
        },
        "id": "S-8Jt3LTWp1l",
        "outputId": "d31f0810-e845-4bea-b694-951a7424ebf6"
      },
      "execution_count": null,
      "outputs": [
        {
          "output_type": "stream",
          "name": "stdout",
          "text": [
            "Red Black\n"
          ]
        }
      ]
    },
    {
      "cell_type": "code",
      "source": [],
      "metadata": {
        "id": "6Tirf0yPZyew"
      },
      "execution_count": null,
      "outputs": []
    },
    {
      "cell_type": "markdown",
      "source": [
        "9. Write a Python program to display the examination schedule. (extract the date from exam_st_date)."
      ],
      "metadata": {
        "id": "s9fYymCaZ5Vt"
      }
    },
    {
      "cell_type": "code",
      "source": [
        "exam_start_date = (3, 6, 2022)\n",
        "print(\"the examination start from : %i / %i / %i\" %exam_start_date)"
      ],
      "metadata": {
        "colab": {
          "base_uri": "https://localhost:8080/"
        },
        "id": "Li7esVMFZygo",
        "outputId": "cec38426-5861-4f72-94ee-c5c269a4bf1b"
      },
      "execution_count": null,
      "outputs": [
        {
          "output_type": "stream",
          "name": "stdout",
          "text": [
            "the examination start from : 3 / 6 / 2022\n"
          ]
        }
      ]
    },
    {
      "cell_type": "markdown",
      "source": [
        "**10. Write a Python program that accepts an integer (n) and computes the value of n+nn+nnn.**"
      ],
      "metadata": {
        "id": "Pzd4PjYGhmKU"
      }
    },
    {
      "cell_type": "code",
      "source": [
        "n = input(\"number: \")\n",
        "n1 = int(\"%s\" %n)\n",
        "n2 = int(\"%s%s\" %(n,n))\n",
        "n3 = int(\"%s%s%s\" %(n,n,n))\n",
        "sum = n1+n2+n3\n",
        "print(sum)"
      ],
      "metadata": {
        "colab": {
          "base_uri": "https://localhost:8080/"
        },
        "id": "j1gmQbFKZyj-",
        "outputId": "727c051f-6ddb-4a2b-aaa3-c54b2bb12803"
      },
      "execution_count": null,
      "outputs": [
        {
          "output_type": "stream",
          "name": "stdout",
          "text": [
            "number: 3\n",
            "369\n"
          ]
        }
      ]
    },
    {
      "cell_type": "markdown",
      "source": [
        "**11. Write a Python program to print the documents (syntax, description etc.) of Python built-in function(s).**"
      ],
      "metadata": {
        "id": "b_Wlp9P2ke8L"
      }
    },
    {
      "cell_type": "code",
      "source": [
        "# prime number program\n",
        "#num = int(input('num: '))\n",
        "for num in range (1,90+1):\n",
        "  if num >1:\n",
        "    for i in range(2,91):\n",
        "      if num%i == 0:\n",
        "        break\n",
        "    else:\n",
        "      print(num)"
      ],
      "metadata": {
        "id": "QB31g5ENZyl4"
      },
      "execution_count": null,
      "outputs": []
    },
    {
      "cell_type": "code",
      "source": [
        "# Python program to display all the prime numbers within an interval\n",
        "\n",
        "lower = 900\n",
        "upper = 1000\n",
        "\n",
        "print(\"Prime numbers between\", lower, \"and\", upper, \"are:\")\n",
        "\n",
        "for num in range(lower, upper + 1):\n",
        "   # all prime numbers are greater than 1\n",
        "   if num > 1:\n",
        "       for i in range(2, num):\n",
        "           if (num % i) == 0:\n",
        "               break\n",
        "       else:\n",
        "           print(num)"
      ],
      "metadata": {
        "colab": {
          "base_uri": "https://localhost:8080/"
        },
        "id": "MffhFEUyVLFf",
        "outputId": "46e39952-b683-4872-e57a-56d594b093df"
      },
      "execution_count": null,
      "outputs": [
        {
          "output_type": "stream",
          "name": "stdout",
          "text": [
            "Prime numbers between 900 and 1000 are:\n",
            "907\n",
            "911\n",
            "919\n",
            "929\n",
            "937\n",
            "941\n",
            "947\n",
            "953\n",
            "967\n",
            "971\n",
            "977\n",
            "983\n",
            "991\n",
            "997\n"
          ]
        }
      ]
    },
    {
      "cell_type": "code",
      "source": [
        "# Amstrong number\n",
        "num = int(input(\"enter a num: \"))\n",
        "x = num\n",
        "sum = 0\n",
        "while x>0:\n",
        "  y= x%10\n",
        "  sum += y**2\n",
        "  x //=10\n",
        "if num == sum:\n",
        "   print(num,\"is an Armstrong number\")\n",
        "else:\n",
        "   print(num,\"is not an Armstrong number\")"
      ],
      "metadata": {
        "id": "c5TJR4UjZypO",
        "colab": {
          "base_uri": "https://localhost:8080/"
        },
        "outputId": "20de12c0-516f-47a6-b2c9-0dffaf4a0577"
      },
      "execution_count": null,
      "outputs": [
        {
          "output_type": "stream",
          "name": "stdout",
          "text": [
            "enter a num: 32\n",
            "32 is not an Armstrong number\n"
          ]
        }
      ]
    },
    {
      "cell_type": "code",
      "source": [
        "len(str(1232))"
      ],
      "metadata": {
        "id": "Nt5NT8pAZyq_",
        "colab": {
          "base_uri": "https://localhost:8080/"
        },
        "outputId": "ef7a748d-2e7b-4a72-e536-56ef6d695fc3"
      },
      "execution_count": null,
      "outputs": [
        {
          "output_type": "execute_result",
          "data": {
            "text/plain": [
              "4"
            ]
          },
          "metadata": {},
          "execution_count": 5
        }
      ]
    },
    {
      "cell_type": "code",
      "source": [
        "x = input(\"str: \" )\n",
        "print(x)"
      ],
      "metadata": {
        "id": "Xpcii_4PZyuV",
        "colab": {
          "base_uri": "https://localhost:8080/"
        },
        "outputId": "f7381875-a3bb-4347-da84-1a337858ecfa"
      },
      "execution_count": null,
      "outputs": [
        {
          "output_type": "stream",
          "name": "stdout",
          "text": [
            "str: kjh\n",
            "kjh\n"
          ]
        }
      ]
    },
    {
      "cell_type": "code",
      "source": [
        "y = \"qwe\"\n",
        "y[1:3].isupper()"
      ],
      "metadata": {
        "id": "rDYM1fv8Zyw7",
        "colab": {
          "base_uri": "https://localhost:8080/"
        },
        "outputId": "930a8eb6-ddca-46b6-f81b-42c525d2b145"
      },
      "execution_count": null,
      "outputs": [
        {
          "output_type": "execute_result",
          "data": {
            "text/plain": [
              "False"
            ]
          },
          "metadata": {},
          "execution_count": 7
        }
      ]
    },
    {
      "cell_type": "code",
      "source": [
        "x = input('x=')\n",
        "if x in range(2,6):\n",
        "  print(\"weird\")\n",
        "elif x in range(6,16):\n",
        "  print(\"not weird\")\n",
        "else:\n",
        "  print('out of range')"
      ],
      "metadata": {
        "id": "vmkrLOdQZyyu",
        "colab": {
          "base_uri": "https://localhost:8080/"
        },
        "outputId": "454dfa3a-38bd-48db-9c58-1f63e054841c"
      },
      "execution_count": null,
      "outputs": [
        {
          "output_type": "stream",
          "name": "stdout",
          "text": [
            "x=2\n",
            "out of range\n"
          ]
        }
      ]
    },
    {
      "cell_type": "code",
      "source": [
        "# leap yr program\n",
        "yr = int(input(\"yr = \"))\n",
        "if yr % 4 == 0:\n",
        "  if yr /100 ==0\n",
        "  \n",
        "  "
      ],
      "metadata": {
        "id": "t8xqlYwdZy0m"
      },
      "execution_count": null,
      "outputs": []
    },
    {
      "cell_type": "code",
      "source": [
        "x = input('string: ')\n",
        "y = x[::-1]\n",
        "if y == x:\n",
        "  print('y')\n",
        "else:\n",
        "  print('n')"
      ],
      "metadata": {
        "id": "k_y2niCcZy4g",
        "colab": {
          "base_uri": "https://localhost:8080/"
        },
        "outputId": "6e8eb552-96d1-4929-f525-56aa2ccefa02"
      },
      "execution_count": 23,
      "outputs": [
        {
          "output_type": "stream",
          "name": "stdout",
          "text": [
            "string: simple\n",
            "n\n"
          ]
        }
      ]
    },
    {
      "cell_type": "code",
      "source": [],
      "metadata": {
        "id": "_VguuNTuZy6a"
      },
      "execution_count": null,
      "outputs": []
    },
    {
      "cell_type": "code",
      "source": [
        "from google.colab import drive\n",
        "drive.mount('/content/drive')"
      ],
      "metadata": {
        "id": "_-NOr_HiKu34"
      },
      "execution_count": null,
      "outputs": []
    },
    {
      "cell_type": "code",
      "source": [],
      "metadata": {
        "id": "_EiWn8v_Zy-h"
      },
      "execution_count": null,
      "outputs": []
    }
  ]
}